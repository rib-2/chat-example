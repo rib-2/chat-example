{
 "cells": [
  {
   "cell_type": "code",
   "execution_count": null,
   "metadata": {},
   "outputs": [],
   "source": [
    "%pip install -r requirements.txt"
   ]
  },
  {
   "cell_type": "markdown",
   "metadata": {},
   "source": [
    "### Load Dataset\n",
    "\n",
    "The hugging face `datasets` library lets you manipulate data from the HF hub (https://huggingface.co/datasets).\n",
    "\n",
    "The ultrachat dataset https://huggingface.co/datasets/HuggingFaceH4/ultrachat_200k has examples of a multi-turn chat."
   ]
  },
  {
   "cell_type": "code",
   "execution_count": 2,
   "metadata": {},
   "outputs": [
    {
     "data": {
      "text/plain": [
       "[{'content': \"These instructions apply to section-based themes (Responsive 6.0+, Retina 4.0+, Parallax 3.0+ Turbo 2.0+, Mobilia 5.0+). What theme version am I using?\\nOn your Collections pages & Featured Collections sections, you can easily show the secondary image of a product on hover by enabling one of the theme's built-in settings!\\nYour Collection pages & Featured Collections sections will now display the secondary product image just by hovering over that product image thumbnail.\\nDoes this feature apply to all sections of the theme or just specific ones as listed in the text material?\",\n",
       "  'role': 'user'},\n",
       " {'content': 'This feature only applies to Collection pages and Featured Collections sections of the section-based themes listed in the text material.',\n",
       "  'role': 'assistant'},\n",
       " {'content': 'Can you guide me through the process of enabling the secondary image hover feature on my Collection pages and Featured Collections sections?',\n",
       "  'role': 'user'},\n",
       " {'content': \"Sure, here are the steps to enable the secondary image hover feature on your Collection pages and Featured Collections sections:\\n\\n1. Log in to your Shopify account and go to your Online Store.\\n2. Click on Customize theme for the section-based theme you are using.\\n3. Navigate to the Collection pages or Featured Collections section where you want to enable the secondary image hover feature.\\n4. With the section open, click on the section's setting (gear) icon in the top-left corner.\\n5. In the settings panel that appears, look for an option labeled 'Image display' or 'Image hover'.\\n6. If available, select 'Show secondary image on hover'.\\n7. Save the changes and preview the Collection/Featured Collection page to see the effect.\\n\\nIf you're having trouble finding the setting, the best thing to do is refer to your theme's documentation, since the location and labeling of settings can vary between themes.\",\n",
       "  'role': 'assistant'},\n",
       " {'content': 'Can you provide me with a link to the documentation for my theme?',\n",
       "  'role': 'user'},\n",
       " {'content': \"I don't have access to your store's theme information. However, you can usually find the documentation for your theme by going to the shopify theme store, finding your theme and clicking on the 'support' link located in the bottom right corner of the page. Alternatively, you can do a google search for the name of your theme followed by 'documentation' or 'user guide'.\",\n",
       "  'role': 'assistant'},\n",
       " {'content': 'Can you confirm if this feature also works for the Quick Shop section of my theme?',\n",
       "  'role': 'user'},\n",
       " {'content': \"The secondary image hover feature may or may not work for your Quick Shop section, depending on the configuration of your theme. Some themes include this feature in the Quick Shop section by default, while others may require additional customization. To check if this feature is available for the Quick Shop section of your theme, follow these steps:\\n\\n1. Go to the Quick Shop section where you would like to enable the feature. 2. Click on the Quick Shop settings icon (gear icon) and look for 'Image display' or 'Image hover'. 3. If available, select 'Show secondary image on hover'. 4. Save the changes. If this option is not available in your Quick Shop section settings, you may need to reach out to your theme developer for assistance with customizing your Quick Shop section to include this feature.\",\n",
       "  'role': 'assistant'}]"
      ]
     },
     "execution_count": 2,
     "metadata": {},
     "output_type": "execute_result"
    }
   ],
   "source": [
    "from datasets import load_dataset\n",
    "\n",
    "ds = load_dataset(\"HuggingFaceH4/ultrachat_200k\", split=\"train_sft\")\n",
    "ds[0][\"messages\"]"
   ]
  },
  {
   "cell_type": "markdown",
   "metadata": {},
   "source": [
    "### Tokenization\n",
    "\n",
    "A tokenizer takes text and converts it to the `input_ids` that we pass to the model. In the case below, I downloaded the tokenizer for Zephyr (which is a fine-tuned variant of Mistral).\n",
    "\n",
    "Recently, tokenizers added a feature called `apply_chat_template` that takes a string of messages and gives back a formatted chat string. The models are trained with this chat format during the \"alignment\" phase. See more (https://huggingface.co/HuggingFaceH4/zephyr-7b-beta).\n",
    "\n",
    "Note: all of this chat formatting is handled on the vLLM side. This is just here as an FYI."
   ]
  },
  {
   "cell_type": "code",
   "execution_count": 41,
   "metadata": {},
   "outputs": [
    {
     "data": {
      "text/plain": [
       "{'input_ids': [1, 15043, 590, 1024, 338], 'attention_mask': [1, 1, 1, 1, 1]}"
      ]
     },
     "execution_count": 41,
     "metadata": {},
     "output_type": "execute_result"
    }
   ],
   "source": [
    "from transformers import AutoTokenizer\n",
    "\n",
    "tokenizer = AutoTokenizer.from_pretrained(\"TinyLlama/TinyLlama-1.1B-Chat-v1.0\")\n",
    "tokenizer(\"Hello my name is\")"
   ]
  },
  {
   "cell_type": "code",
   "execution_count": 42,
   "metadata": {},
   "outputs": [
    {
     "name": "stdout",
     "output_type": "stream",
     "text": [
      "---- input ids corresponding to the string:\n",
      "[529, 29989, 1792, 29989, 29958, 13, 9544, 7420, 278, 13500, 310, 25704, 24472, 3476, 292, 322, 7952, 292, 6136, 29889, 2, 29871, 13, 29966, 29989, 465, 22137, 29989, 29958, 13, 4597, 1070, 15058, 322, 7952, 292, 6136, 526, 7618, 1455, 363, 7344, 292, 1781, 9045, 322, 1532, 915, 292, 297, 3196, 5837, 29901, 13, 13, 29896, 29889, 341, 2365, 2708, 263, 9045, 29891, 7688, 29901, 2169, 1070, 15058, 28057, 7688, 11581, 322, 6911, 304, 7344, 263, 9045, 29891, 7688, 29889, 739, 338, 884, 385, 15129, 982, 304, 14074, 19163, 7688, 29889, 13, 13, 29906, 29889, 4367, 29884, 778, 278, 12045, 310, 17168, 293, 10267, 2129, 29901, 1222, 6269, 895, 6911, 304, 10032, 278, 12045, 310, 17168, 293, 10267, 2129, 1316, 408, 5192, 17135, 29892, 652, 370, 10778, 322, 704, 267, 537, 29889, 13, 13, 29941, 29889, 1954, 771, 1960, 5881, 29875, 586, 6151, 1070, 9045, 29901, 1222, 6269, 895, 4857, 1960, 5881, 29875, 586, 6151, 1070, 9045, 491, 9324, 8333, 278, 5192, 322, 301, 3085, 322, 10231, 10416, 18342, 362, 29889, 13, 13, 29946, 29889, 1952, 520, 29879, 286, 2092, 322, 19119, 9045, 29901, 1222, 6269, 895, 27474, 1095, 5676, 1144, 29892, 607, 526, 4459, 29899, 16773, 298, 555, 2873, 393, 11157, 286, 2092, 322, 10032, 22884, 322, 14919, 21549, 29889, 13, 13, 29945, 29889, 1174, 29882, 2925, 9128, 4180, 29901, 2169, 1070, 15058, 4857, 1960, 9128, 4180, 322, 26371, 2925, 1095, 18541, 29892, 9324, 29892, 322, 8525, 4127, 29889, 13, 13, 29953, 29889, 9705, 4769, 2253, 8709, 29901, 1222, 6269, 895, 6911, 304, 27391, 2253, 8709, 491, 4857, 1747, 278, 11029, 322, 14385, 310, 8709, 29889, 13, 13, 29955, 29889, 512, 1037, 2129, 23123, 479, 17037, 29901, 16972, 505, 4318, 393, 4943, 15058, 322, 7952, 292, 6136, 505, 1063, 9024, 304, 23123, 479, 17037, 29889, 13, 13, 3563, 497, 29892, 4943, 15058, 322, 7952, 292, 6136, 526, 18853, 363, 7344, 292, 1781, 9045, 29892, 27668, 278, 12045, 310, 17168, 293, 10267, 2129, 29892, 14505, 292, 286, 2092, 322, 19119, 9045, 29892, 322, 2504, 11427, 23123, 479, 17037, 29889, 2, 29871, 13, 29966, 29989, 1792, 29989, 29958, 13, 29950, 1032, 29892, 393, 29915, 29879, 777, 2107, 2472, 366, 29915, 345, 4944, 373, 278, 13500, 310, 24472, 3476, 292, 322, 7952, 292, 6136, 29889, 1815, 366, 3113, 788, 777, 901, 4902, 373, 920, 4943, 15058, 6911, 304, 5557, 17168, 293, 10267, 2129, 29973, 2, 29871, 13, 29966, 29989, 465, 22137, 29989, 29958, 13, 29903, 545, 29892, 306, 508, 5649, 901, 1048, 920, 4943, 15058, 6911, 304, 5557, 17168, 293, 10267, 2129, 29889, 13, 13, 4597, 1070, 15058, 322, 9128, 6354, 526, 2998, 304, 11157, 12463, 9128, 322, 19119, 9045, 29892, 607, 297, 2507, 4482, 414, 278, 12045, 310, 14338, 17168, 293, 10267, 2129, 29889, 2266, 526, 777, 5837, 393, 4943, 15058, 508, 1371, 5557, 17168, 293, 10267, 2129, 29901, 13, 13, 29896, 29889, 1954, 771, 1960, 5192, 9045, 29901, 1222, 6269, 895, 9324, 575, 278, 5192, 322, 4857, 1960, 10416, 18342, 362, 29892, 5224, 292, 278, 12045, 310, 5192, 17135, 29892, 1880, 10416, 12959, 29892, 322, 19782, 29889, 13, 13, 29906, 29889, 6162, 567, 7344, 263, 9045, 29891, 7688, 29901, 365, 547, 310, 9128, 6354, 338, 263, 8236, 4556, 310, 704, 267, 537, 29892, 607, 16415, 278, 12045, 310, 14338, 17168, 293, 10267, 2129, 1316, 408, 652, 370, 10778, 29892, 5192, 17135, 29892, 322, 777, 508, 22543, 29889, 2169, 1070, 15058, 6911, 7344, 263, 9045, 29891, 7688, 29892, 27668, 278, 12045, 310, 1438, 10267, 2129, 29889, 13, 13, 29941, 29889, 4367, 29884, 778, 4414, 4850, 362, 29901, 15336, 293, 4414, 4850, 362, 338, 263, 7282, 12045, 7329, 363, 1784, 17168, 293, 10267, 2129, 29892, 3704, 652, 370, 10778, 29892, 5192, 17135, 29892, 322, 564, 386, 768, 275, 29889, 2169, 1070, 15058, 508, 10032, 4414, 4850, 362, 297, 278, 3573, 29892, 5224, 292, 278, 12045, 310, 14338, 17168, 293, 10267, 2129, 29889, 13, 13, 29946, 29889, 1954, 771, 1960, 1663, 352, 262, 4771, 24858, 29901, 11661, 936, 6354, 6911, 304, 1072, 5987, 1663, 352, 262, 11174, 322, 4857, 1960, 1663, 352, 262, 4771, 24858, 29889, 910, 26830, 278, 12045, 310, 14338, 652, 370, 10778, 322, 916, 1539, 19388, 293, 766, 20488, 29889, 13, 13, 29945, 29889, 1952, 520, 29879, 278, 5198, 1540, 1788, 29901, 2169, 1070, 15058, 508, 14505, 278, 5198, 1540, 1788, 29892, 27668, 278, 12045, 310, 297, 1725, 1953, 322, 777, 17168, 293, 10267, 2129, 29892, 1316, 408, 23900, 29889, 13, 13, 797, 15997, 29892, 4943, 15058, 322, 7952, 292, 6136, 508, 1371, 5557, 17168, 293, 10267, 2129, 491, 4857, 1747, 5192, 9045, 29892, 7344, 292, 263, 9045, 29891, 7688, 29892, 27668, 4414, 4850, 362, 29892, 4857, 1747, 1663, 352, 262, 4771, 24858, 29892, 322, 14505, 292, 278, 5198, 1540, 1788, 29889, 7857, 29892, 3907, 15058, 263, 4943, 760, 310, 596, 2834, 508, 505, 1784, 9045, 23633, 322, 19998, 5557, 17168, 293, 10267, 2129, 29889, 2, 29871, 13, 29966, 29989, 1792, 29989, 29958, 13, 29956, 340, 29892, 306, 750, 694, 2969, 4943, 15058, 1033, 505, 577, 1784, 23633, 297, 5557, 292, 17168, 293, 10267, 2129, 29991, 1815, 366, 3113, 3867, 777, 6455, 310, 2702, 24472, 3476, 267, 393, 526, 7795, 5611, 363, 5557, 292, 1316, 10267, 2129, 29973, 1126, 884, 29892, 1033, 366, 788, 777, 25562, 373, 920, 304, 1207, 15058, 263, 4943, 760, 310, 1749, 12080, 29973, 2, 29871, 13, 29966, 29989, 465, 22137, 29989, 29958, 13, 29907, 13946, 368, 29892, 1244, 526, 777, 6455, 310, 2702, 24472, 3476, 267, 393, 526, 7795, 5611, 363, 5557, 292, 17168, 293, 10267, 2129, 29901, 13, 13, 29896, 29889, 18682, 711, 293, 24472, 3476, 267, 29901, 1316, 408, 16812, 3460, 29892, 1506, 3873, 22049, 29892, 5094, 19914, 29892, 470, 2381, 25217, 29892, 526, 2107, 363, 4857, 1747, 278, 5192, 322, 13030, 9045, 29892, 27668, 278, 12045, 310, 5192, 17135, 29892, 19782, 29892, 704, 267, 537, 29892, 5167, 29871, 29906, 652, 370, 10778, 29892, 322, 3058, 508, 22543, 29889, 29871, 29906, 29889, 2538, 21558, 6694, 29901, 14188, 1316, 408, 7688, 29880, 24377, 29892, 3573, 7915, 24472, 3476, 267, 29892, 470, 773, 17711, 22706, 29892, 1371, 304, 7910, 2301, 2841, 9324, 29892, 11157, 289, 650, 9045, 29892, 322, 10032, 278, 12045, 310, 288, 1655, 459, 272, 19263, 29892, 564, 386, 768, 275, 29892, 322, 14002, 6788, 29889, 29871, 29941, 29889, 383, 2506, 4127, 24472, 3476, 267, 29901, 14188, 1316, 408, 343, 14895, 29892, 14970, 1078, 29892, 322, 16116, 292, 24472, 3476, 267, 526, 2107, 363, 4857, 1747, 8525, 4127, 29892, 17346, 29892, 322, 29311, 3381, 29892, 5557, 292, 20074, 29892, 322, 27668, 278, 12045, 310, 10899, 14886, 29889, 29871, 29946, 29889, 20152, 29899, 2587, 24472, 3476, 267, 29901, 14188, 1316, 408, 1612, 7018, 29892, 260, 1794, 18558, 29892, 322, 3855, 335, 549, 508, 1371, 10032, 22884, 29892, 5224, 10416, 12959, 29892, 322, 11157, 12463, 9128, 322, 19119, 9045, 29889, 2266, 526, 777, 25562, 373, 920, 304, 1207, 15058, 263, 4943, 760, 310, 1749, 12080, 29901, 13, 13, 29896, 29889, 3789, 27012, 519, 14433, 29901, 3789, 1855, 4695, 322, 27012, 519, 14433, 393, 664, 363, 596, 20410, 29892, 6216, 2264, 3233, 29892, 322, 20017, 29889, 29871, 29906, 29889, 10987, 263, 664, 449, 8619, 4518, 29901, 24176, 714, 411, 263, 18096, 470, 5121, 508, 3867, 17385, 362, 29892, 3633, 3097, 29892, 322, 1207, 24472, 3476, 292, 901, 2090, 29889, 29871, 29941, 29889, 23478, 372, 701, 29901, 478, 653, 596, 24472, 3476, 267, 304, 5557, 289, 4395, 290, 29892, 7910, 2301, 2841, 20436, 2785, 29892, 322, 4772, 10899, 14886, 29889, 29871, 29946, 29889, 1102, 11272, 15058, 964, 596, 14218, 26529, 29901, 8561, 15058, 263, 760, 310, 596, 14218, 26529, 491, 28598, 19478, 372, 964, 596, 2462, 470, 4723, 29889, 29871, 29945, 29889, 8561, 372, 13389, 519, 29901, 14542, 852, 14188, 366, 13389, 2599, 29892, 11621, 304, 4696, 470, 10348, 12733, 29892, 6505, 5648, 470, 2351, 583, 29892, 470, 5988, 263, 2318, 770, 304, 1207, 24472, 3476, 292, 13389, 519, 322, 901, 3033, 6751, 29889, 512, 15997, 29892, 11039, 1218, 24472, 3476, 267, 393, 9324, 264, 596, 5881, 29875, 586, 6151, 1070, 1788, 29892, 17711, 6694, 393, 2504, 4769, 2301, 2841, 9324, 29892, 8525, 4127, 29892, 322, 3458, 29899, 2587, 14188, 304, 10032, 22884, 508, 1371, 7344, 1781, 9045, 322, 6260, 675, 278, 12045, 310, 17168, 293, 10267, 2129, 29889, 341, 5086, 24472, 3476, 292, 263, 4943, 760, 310, 596, 2834, 6858, 29822, 322, 18987, 29892, 541, 372, 23522, 12727, 9045, 23633, 29892, 3704, 9128, 6216, 2264, 29892, 322, 16710, 19119, 1532, 915, 292, 29889, 2, 29871, 13]\n",
      "\n",
      "---- actual text:\n",
      "<|user|>\n",
      "Explain the importance of regularly exercising and staying active.</s>\n",
      "<|assistant|>\n",
      "Regular exercise and staying active are crucial for maintaining good health and wellbeing in several ways:\n",
      "\n",
      "1. Maintains a healthy weight: Regular exercise prevents weight gain and helps to maintain a healthy weight. It is also an excellent way to lose excess weight.\n",
      "\n",
      "2. Reduces the risk of chronic diseases: Exercise helps to reduce the risk of chronic diseases such as heart disease, diabetes and obesity.\n",
      "\n",
      "3. Improves cardiovascular health: Exercise improves cardiovascular health by strengthening the heart and lungs and increasing blood circulation.\n",
      "\n",
      "4. Boosts mood and mental health: Exercise releases endorphins, which are feel-good hormones that improve mood and reduce stress and anxiety.\n",
      "\n",
      "5. Enhances physical performance: Regular exercise improves physical performance and enhances endurance, strength, and flexibility.\n",
      "\n",
      "6. Promotes better sleep: Exercise helps to promote better sleep by improving the quality and duration of sleep.\n",
      "\n",
      "7. Increases longevity: Studies have shown that regular exercise and staying active have been linked to longevity.\n",
      "\n",
      "Overall, regular exercise and staying active are essential for maintaining good health, reducing the risk of chronic diseases, boosting mood and mental health, and promoting longevity.</s>\n",
      "<|user|>\n",
      "Hey, that's some great information you've provided on the importance of exercising and staying active. Can you please add some more details on how regular exercise helps to prevent chronic diseases?</s>\n",
      "<|assistant|>\n",
      "Sure, I can explain more about how regular exercise helps to prevent chronic diseases.\n",
      "\n",
      "Regular exercise and physical activity are known to improve overall physical and mental health, which in turn lowers the risk of developing chronic diseases. Here are some ways that regular exercise can help prevent chronic diseases:\n",
      "\n",
      "1. Improves heart health: Exercise strengthens the heart and improves blood circulation, lowering the risk of heart disease, high blood pressure, and stroke.\n",
      "\n",
      "2. Helps maintain a healthy weight: Lack of physical activity is a leading cause of obesity, which increases the risk of developing chronic diseases such as diabetes, heart disease, and some cancers. Regular exercise helps maintain a healthy weight, reducing the risk of these diseases.\n",
      "\n",
      "3. Reduces inflammation: Chronic inflammation is a significant risk factor for many chronic diseases, including diabetes, heart disease, and arthritis. Regular exercise can reduce inflammation in the body, lowering the risk of developing chronic diseases.\n",
      "\n",
      "4. Improves insulin sensitivity: Physical activity helps to regulate insulin levels and improves insulin sensitivity. This reduces the risk of developing diabetes and other metabolic disorders.\n",
      "\n",
      "5. Boosts the immune system: Regular exercise can boost the immune system, reducing the risk of infections and some chronic diseases, such as cancer.\n",
      "\n",
      "In conclusion, regular exercise and staying active can help prevent chronic diseases by improving heart health, maintaining a healthy weight, reducing inflammation, improving insulin sensitivity, and boosting the immune system. Therefore, making exercise a regular part of your life can have many health benefits and potentially prevent chronic diseases.</s>\n",
      "<|user|>\n",
      "Wow, I had no idea regular exercise could have so many benefits in preventing chronic diseases! Can you please provide some examples of specific exercises that are beneficial for preventing such diseases? And also, could you add some tips on how to make exercise a regular part of our lives?</s>\n",
      "<|assistant|>\n",
      "Certainly, here are some examples of specific exercises that are beneficial for preventing chronic diseases:\n",
      "\n",
      "1. Aerobic exercises: such as jogging, brisk walking, cycling, or swimming, are great for improving the heart and lung health, reducing the risk of heart disease, stroke, obesity, Type 2 diabetes, and certain cancers. 2. Resistance training: activities such as weightlifting, bodyweight exercises, or using resistance bands, help to increase muscle strength, improve bone health, and reduce the risk of osteoporosis, arthritis, and joint pain. 3. Flexibility exercises: activities such as yoga, Pilates, and stretching exercises are great for improving flexibility, balance, and coordination, preventing falls, and reducing the risk of injuries. 4. Mind-body exercises: activities such as meditation, tai chi, and qigong can help reduce stress, lower blood pressure, and improve overall physical and mental health. Here are some tips on how to make exercise a regular part of our lives:\n",
      "\n",
      "1. Set achievable goals: Set realistic and achievable goals that work for your schedule, fitness level, and interests. 2. Find a workout buddy: Working out with a partner or friend can provide motivation, accountability, and make exercising more fun. 3. Mix it up: Vary your exercises to prevent boredom, increase muscle stimulation, and avoid injuries. 4. Schedule exercise into your daily routine: Make exercise a part of your daily routine by scheduling it into your day or week. 5. Make it enjoyable: Choose activities you enjoy doing, listen to music or audiobooks, watch TV or movies, or join a group class to make exercising enjoyable and more engaging. In conclusion, incorporating exercises that strengthen your cardiovascular system, resistance training that promotes muscle strength, flexibility, and mind-body activities to reduce stress can help maintain good health and minimize the risk of chronic diseases. Making exercising a regular part of your life requires discipline and planning, but it brings numerous health benefits, including physical fitness, and improved mental wellbeing.</s>\n",
      "\n"
     ]
    }
   ],
   "source": [
    "# With a chat template\n",
    "\n",
    "print(\"---- input ids corresponding to the string:\")\n",
    "print(tokenizer.apply_chat_template(ds[0][\"messages\"])) \n",
    "print(\"\\n---- actual text:\")\n",
    "print(tokenizer.apply_chat_template(ds[0][\"messages\"], tokenize=False))"
   ]
  },
  {
   "cell_type": "code",
   "execution_count": 43,
   "metadata": {},
   "outputs": [
    {
     "name": "stdout",
     "output_type": "stream",
     "text": [
      "<|system|>\n",
      "You are a chatbot with the explict goal of helping the user as best as possible</s>\n",
      "<|user|>\n",
      "Explain the importance of regularly exercising and staying active.</s>\n",
      "<|assistant|>\n",
      "Regular exercise and staying active are crucial for maintaining good health and wellbeing in several ways:\n",
      "\n",
      "1. Maintains a healthy weight: Regular exercise prevents weight gain and helps to maintain a healthy weight. It is also an excellent way to lose excess weight.\n",
      "\n",
      "2. Reduces the risk of chronic diseases: Exercise helps to reduce the risk of chronic diseases such as heart disease, diabetes and obesity.\n",
      "\n",
      "3. Improves cardiovascular health: Exercise improves cardiovascular health by strengthening the heart and lungs and increasing blood circulation.\n",
      "\n",
      "4. Boosts mood and mental health: Exercise releases endorphins, which are feel-good hormones that improve mood and reduce stress and anxiety.\n",
      "\n",
      "5. Enhances physical performance: Regular exercise improves physical performance and enhances endurance, strength, and flexibility.\n",
      "\n",
      "6. Promotes better sleep: Exercise helps to promote better sleep by improving the quality and duration of sleep.\n",
      "\n",
      "7. Increases longevity: Studies have shown that regular exercise and staying active have been linked to longevity.\n",
      "\n",
      "Overall, regular exercise and staying active are essential for maintaining good health, reducing the risk of chronic diseases, boosting mood and mental health, and promoting longevity.</s>\n",
      "<|user|>\n",
      "Hey, that's some great information you've provided on the importance of exercising and staying active. Can you please add some more details on how regular exercise helps to prevent chronic diseases?</s>\n",
      "\n"
     ]
    }
   ],
   "source": [
    "# Add a system prompt. Only send the first N turns\n",
    "N = 3\n",
    "\n",
    "system_message = {\n",
    "    \"content\": \"You are a chatbot with the explict goal of helping the user as best as possible\",\n",
    "    \"role\": \"system\",\n",
    "}\n",
    "\n",
    "messages = [system_message]\n",
    "messages.extend(ds[0][\"messages\"][:N])\n",
    "messages\n",
    "print(tokenizer.apply_chat_template(messages, tokenize=False))"
   ]
  },
  {
   "cell_type": "code",
   "execution_count": 44,
   "metadata": {},
   "outputs": [
    {
     "data": {
      "text/plain": [
       "Dataset({\n",
       "    features: ['prompt', 'prompt_id', 'messages'],\n",
       "    num_rows: 200\n",
       "})"
      ]
     },
     "execution_count": 44,
     "metadata": {},
     "output_type": "execute_result"
    }
   ],
   "source": [
    "NUM_CONVOS = 200\n",
    "ds = ds.shuffle(seed=42).select(range(NUM_CONVOS))\n",
    "ds"
   ]
  },
  {
   "cell_type": "code",
   "execution_count": 45,
   "metadata": {},
   "outputs": [
    {
     "name": "stderr",
     "output_type": "stream",
     "text": [
      "Token indices sequence length is longer than the specified maximum sequence length for this model (2406 > 2048). Running this sequence through the model will result in indexing errors\n"
     ]
    }
   ],
   "source": [
    "MODEL_MAX_LEN = 4096\n",
    "\n",
    "prompt_input_output_toks = []\n",
    "for messages in ds[\"messages\"]:\n",
    "    convo = [system_message]\n",
    "    convo.extend(messages)\n",
    "    \n",
    "    for i in range(2, len(convo), 2):\n",
    "        prompt = tokenizer.apply_chat_template(\n",
    "            convo[:i],\n",
    "            tokenize=False,\n",
    "            add_generation_prompt=True  \n",
    "        )\n",
    "        response = convo[i][\"content\"]        \n",
    "        num_input_tokens = len(tokenizer(prompt).input_ids)\n",
    "        num_output_tokens = len(tokenizer(response).input_ids)\n",
    "\n",
    "        if MODEL_MAX_LEN > num_input_tokens + num_output_tokens:\n",
    "            prompt_input_output_toks.append((\n",
    "                prompt, num_input_tokens, num_output_tokens\n",
    "            ))"
   ]
  },
  {
   "cell_type": "code",
   "execution_count": 46,
   "metadata": {},
   "outputs": [
    {
     "name": "stdout",
     "output_type": "stream",
     "text": [
      "input_tokens distribution:\n",
      "                 0\n",
      "count   658.000000\n",
      "mean    712.145897\n",
      "std     554.331012\n",
      "min      51.000000\n",
      "25%     222.500000\n",
      "50%     623.000000\n",
      "75%    1028.500000\n",
      "max    3066.000000\n",
      "\n",
      "output_tokens distribution:\n",
      "                 0\n",
      "count   658.000000\n",
      "mean    325.965046\n",
      "std     231.233060\n",
      "min       9.000000\n",
      "25%     158.250000\n",
      "50%     293.500000\n",
      "75%     413.000000\n",
      "max    1361.000000\n"
     ]
    }
   ],
   "source": [
    "import pandas as pd\n",
    "num_input_tokens_lst = []\n",
    "num_output_tokens_lst = []\n",
    "\n",
    "for prompt, input_toks, output_toks in prompt_input_output_toks:\n",
    "    num_input_tokens_lst.append(input_toks)\n",
    "    num_output_tokens_lst.append(output_toks)\n",
    "\n",
    "num_input_tokens_df = pd.DataFrame(num_input_tokens_lst)\n",
    "num_output_tokens_df = pd.DataFrame(num_output_tokens_lst)\n",
    "\n",
    "print(\"input_tokens distribution:\")\n",
    "print(num_input_tokens_df.describe())\n",
    "\n",
    "print(\"\\noutput_tokens distribution:\")\n",
    "print(num_output_tokens_df.describe())"
   ]
  },
  {
   "cell_type": "code",
   "execution_count": 47,
   "metadata": {},
   "outputs": [
    {
     "data": {
      "text/plain": [
       "Text(0.5, 1.0, 'Num Output Tokens')"
      ]
     },
     "execution_count": 47,
     "metadata": {},
     "output_type": "execute_result"
    },
    {
     "data": {
      "image/png": "[encoded data removed]",
      "text/plain": [
       "<Figure size 1000x500 with 2 Axes>"
      ]
     },
     "metadata": {},
     "output_type": "display_data"
    }
   ],
   "source": [
    "%matplotlib inline\n",
    "\n",
    "import matplotlib.pyplot as plt\n",
    "\n",
    "# using the variable axs for multiple Axes\n",
    "fig, axs = plt.subplots(1, 2, figsize=(10,5))\n",
    "\n",
    "axs[0].hist(num_input_tokens_lst, bins=20)\n",
    "axs[0].set_title(\"Num Input Tokens\")\n",
    "axs[1].hist(num_output_tokens_lst, bins=20)\n",
    "axs[1].set_title(\"Num Output Tokens\")"
   ]
  },
  {
   "cell_type": "code",
   "execution_count": 48,
   "metadata": {},
   "outputs": [
    {
     "name": "stdout",
     "output_type": "stream",
     "text": [
      "500\n"
     ]
    }
   ],
   "source": [
    "import random\n",
    "NUM_PROMPTS = 500\n",
    "\n",
    "samples = random.sample(prompt_input_output_toks, NUM_PROMPTS)\n",
    "print(len(samples))"
   ]
  },
  {
   "cell_type": "code",
   "execution_count": 72,
   "metadata": {},
   "outputs": [
    {
     "name": "stdout",
     "output_type": "stream",
     "text": [
      "---- response:\n",
      "Classic Chicken Ala King Sauce Recipe:\n",
      "\n",
      "Ingredients:\n",
      "- 1 lb boneless, skinless chicken breasts, cut into bite-sized pieces\n",
      "- 1/4 cup all-purpose flour\n",
      "- 1/4 cup cornstarch\n",
      "- 1/4 cup soy sauce\n",
      "- 1/4 cup oyster sauce\n",
      "- 1/4 cup brown sugar\n",
      "- 1/4 cup rice vinegar\n",
      "- 1/4 cup water\n",
      "- 1 tbsp vegetable oil\n",
      "- 1 tbsp minced garlic\n",
      "- 1 tbsp minced ginger\n",
      "- 1 tsp ground cumin\n",
      "- 1 tsp ground coriander\n",
      "- Salt and pepper to taste\n",
      "- 1/4 cup chopped fresh cilantro\n",
      "- 1/4 cup chopped green onions\n",
      "- 1/4 cup chopped peanuts\n",
      "\n",
      "Instructions:\n",
      "\n",
      "1. Preheat the oven to 375°F (190°C).\n",
      "\n",
      "2. In a shallow dish, mix together the flour and cornstarch.\n",
      "\n",
      "3. In a separate bowl, whisk together the soy sauce, oyster sauce, brown sugar, rice vinegar, water, and vegetable oil.\n",
      "\n",
      "4. In a large skillet or wok, heat the oil over medium-high heat. Add the chicken pieces and cook until browned on all sides, about 5-7 minutes. Remove the chicken from the skillet and set aside.\n",
      "\n",
      "5. In the same skillet, add the garlic and ginger and cook for 1 minute.\n",
      "\n",
      "6. Add the cumin and coriander to the skillet and cook for 1 minute.\n",
      "\n",
      "7. Add the chicken back to the skillet and stir to combine with the sauce. Cook for 2-3 minutes, until the chicken is heated through and the sauce has thickened.\n",
      "\n",
      "8. Add the chicken back to the oven-safe dish and pour the sauce over the chicken.\n",
      "\n",
      "9. Sprinkle the cilantro and green onions over the top of the chicken.\n",
      "\n",
      "10. Bake for 20-25 minutes, or until the chicken is cooked through and the sauce is bubbling.\n",
      "\n",
      "11. Serve hot with rice, noodles, or your favorite side\n",
      "\n",
      "\n",
      "---- lengths:\n",
      "num_input_tokens = 104 // 104\n",
      "num_output_tokens = 556 // 556\n"
     ]
    }
   ],
   "source": [
    "import aiohttp, asyncio, json\n",
    "\n",
    "sample = random.choice(samples)\n",
    "prompt, input_tokens, output_tokens = sample\n",
    "\n",
    "pload = {\n",
    "    \"model\": \"TinyLlama/TinyLlama-1.1B-Chat-v1.0\",\n",
    "    \"prompt\": prompt,\n",
    "    \"n\": 1,\n",
    "    \"best_of\": 1,\n",
    "    \"use_beam_search\": False,\n",
    "    \"temperature\": 0.0,\n",
    "    \"max_tokens\": output_tokens,\n",
    "    \"ignore_eos\": True,\n",
    "    \"stream\": False,\n",
    "}\n",
    "\n",
    "api_url = \"http://0.0.0.0:8000/v1/completions\"\n",
    "headers = {\"User-Agent\": \"Benchmark Client\"}\n",
    "timeout = aiohttp.ClientTimeout(total=3 * 3600)\n",
    "\n",
    "async with aiohttp.ClientSession(timeout=timeout) as session:\n",
    "    while True:\n",
    "        async with session.post(api_url, headers=headers, json=pload) as response:\n",
    "            chunks = []\n",
    "            async for chunk, _ in response.content.iter_chunks():\n",
    "                chunks.append(chunk)\n",
    "        output = b\"\".join(chunks).decode(\"utf-8\")\n",
    "        output = json.loads(output)\n",
    "\n",
    "        # Re-send the request if it failed.\n",
    "        if \"error\" not in output:\n",
    "            break\n",
    "\n",
    "print(\"---- response:\")\n",
    "print(output[\"choices\"][0][\"text\"])\n",
    "\n",
    "print(\"\\n\")\n",
    "print(\"---- lengths:\")\n",
    "print(f\"num_input_tokens = {input_tokens} // {output['usage']['prompt_tokens']}\")\n",
    "print(f\"num_output_tokens = {output_tokens} // {output['usage']['completion_tokens']}\")"
   ]
  },
  {
   "cell_type": "code",
   "execution_count": null,
   "metadata": {},
   "outputs": [],
   "source": []
  }
 ],
 "metadata": {
  "kernelspec": {
   "display_name": "env",
   "language": "python",
   "name": "python3"
  },
  "language_info": {
   "codemirror_mode": {
    "name": "ipython",
    "version": 3
   },
   "file_extension": ".py",
   "mimetype": "text/x-python",
   "name": "python",
   "nbconvert_exporter": "python",
   "pygments_lexer": "ipython3",
   "version": "3.10.12"
  }
 },
 "nbformat": 4,
 "nbformat_minor": 2
}
